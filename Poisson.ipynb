{
 "cells": [
  {
   "cell_type": "markdown",
   "metadata": {},
   "source": [
    "# Poisson Distribution Assignment\n",
    "\n",
    "The code below simulates customer arrivals at a coffee shop using the Poisson distribution, which models the probability of a given number of events happening within a fixed interval of time. Specifically, the code assumes that the average arrival rate of customers is 15 per hour and simulates customer arrivals over 1,000 hours."
   ]
  },
  {
   "cell_type": "code",
   "execution_count": null,
   "metadata": {
    "vscode": {
     "languageId": "plaintext"
    }
   },
   "outputs": [],
   "source": [
    "import numpy as np\n",
    "import matplotlib.pyplot as plt\n",
    "from scipy.stats import poisson\n",
    "\n",
    "# Set random seed for reproducibility\n",
    "np.random.seed(42)\n",
    "\n",
    "# Parameters\n",
    "lambda_rate = 15  # Average number of customers per hour\n",
    "num_hours = 1000  # Number of hours to simulate\n",
    "\n",
    "# Generate Poisson-distributed data\n",
    "customer_arrivals = np.random.poisson(lambda_rate, num_hours)\n",
    "\n",
    "# Create the main figure\n",
    "fig, ax = plt.subplots(figsize=(12, 8))\n",
    "\n",
    "# Plot histogram\n",
    "ax.hist(customer_arrivals, bins=range(min(customer_arrivals), max(customer_arrivals) + 2, 1),\n",
    "        density=True, alpha=0.7, color='skyblue', edgecolor='black')\n",
    "\n",
    "# Plot Poisson PMF\n",
    "x = np.arange(0, max(customer_arrivals) + 1)\n",
    "pmf = poisson.pmf(x, lambda_rate)\n",
    "ax.plot(x, pmf, 'r-', lw=2, label='Poisson PMF')\n",
    "\n",
    "# Customize the plot\n",
    "ax.set_title(\"Poisson Distribution: Coffee Shop Customer Arrivals\", fontsize=16)\n",
    "ax.set_xlabel(\"Number of Customers per Hour\", fontsize=12)\n",
    "ax.set_ylabel(\"Probability\", fontsize=12)\n",
    "\n",
    "\n",
    "# Move the legend to the upper left corner\n",
    "ax.legend(fontsize=10, loc='upper left')\n",
    "\n",
    "# Add formula, positioned at top right\n",
    "formula = r\"$P(X = k) = \\frac{e^{-\\lambda} \\lambda^k}{k!}$\"\n",
    "ax.text(0.95, 0.95, formula, transform=ax.transAxes, fontsize=14,\n",
    "        verticalalignment='top', horizontalalignment='right',\n",
    "        bbox=dict(boxstyle='round', facecolor='white', alpha=0.8))\n",
    "\n",
    "# Add example calculation, positioned below the formula\n",
    "example = (f\"Example: P(X = 15) with λ = 15\\n\"\n",
    "           f\"P(X = 15) = {poisson.pmf(15, lambda_rate):.4f}\")\n",
    "ax.text(0.95, 0.82, example, transform=ax.transAxes, fontsize=10,\n",
    "        verticalalignment='top', horizontalalignment='right',\n",
    "        bbox=dict(boxstyle='round', facecolor='white', alpha=0.8))\n",
    "\n",
    "# Add parameters, positioned at the top left corner\n",
    "params = f\"λ (lambda) = {lambda_rate}\\nNumber of simulations: {num_hours}\"\n",
    "ax.text(0.05, 0.82, params, transform=ax.transAxes, fontsize=10,\n",
    "        verticalalignment='top', horizontalalignment='left',\n",
    "        bbox=dict(boxstyle='round', facecolor='white', alpha=0.8))\n",
    "\n",
    "plt.grid(True)\n",
    "plt.tight_layout()\n",
    "plt.show()"
   ]
  }
 ],
 "metadata": {
  "language_info": {
   "name": "python"
  }
 },
 "nbformat": 4,
 "nbformat_minor": 2
}
